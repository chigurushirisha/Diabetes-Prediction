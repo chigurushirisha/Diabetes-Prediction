{
 "cells": [
  {
   "cell_type": "code",
   "execution_count": null,
   "id": "53f66e94-f407-47e0-ab66-6d36ac2d4e0c",
   "metadata": {},
   "outputs": [],
   "source": [
    "import random\n",
    "\n",
    "userChoice = int(input(\"Enter your choice from 0-2, 0 for Rock, 1 for Paper, 2 for Scissors: \"))\n",
    "\n",
    "if userChoice not in [0, 1, 2]:\n",
    "    print(\"Invalid choice\")\n",
    "else:\n",
    "    computerChoice = random.randint(0, 2)\n",
    "    print(f\"Computer chose {computerChoice}\")\n",
    "\n",
    "    if computerChoice == userChoice:\n",
    "        print(\"It's a draw match\")\n",
    "    elif (userChoice == 0 and computerChoice == 2) or \\\n",
    "         (userChoice == 1 and computerChoice == 0) or \\\n",
    "         (userChoice == 2 and computerChoice == 1):\n",
    "        print(\"User won against Computer\")\n",
    "    else:\n",
    "        print(\"Computer won against User\")\n"
   ]
  },
  {
   "cell_type": "code",
   "execution_count": null,
   "id": "a64cc027-a213-4892-8e54-77a45d6da576",
   "metadata": {},
   "outputs": [],
   "source": []
  }
 ],
 "metadata": {
  "kernelspec": {
   "display_name": "Python 3 (ipykernel)",
   "language": "python",
   "name": "python3"
  },
  "language_info": {
   "codemirror_mode": {
    "name": "ipython",
    "version": 3
   },
   "file_extension": ".py",
   "mimetype": "text/x-python",
   "name": "python",
   "nbconvert_exporter": "python",
   "pygments_lexer": "ipython3",
   "version": "3.12.7"
  }
 },
 "nbformat": 4,
 "nbformat_minor": 5
}
